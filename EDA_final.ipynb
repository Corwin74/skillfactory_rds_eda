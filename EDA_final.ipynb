{
 "cells": [
  {
   "cell_type": "code",
   "execution_count": 90,
   "metadata": {},
   "outputs": [],
   "source": [
    "import pandas as pd\n",
    "import numpy as np\n",
    "import matplotlib.pyplot as plt\n",
    "import seaborn as sns\n",
    "from itertools import combinations\n",
    "from scipy.stats import ttest_ind\n",
    "import lightgbm as lgb\n",
    "from sklearn.metrics import mean_squared_error, mean_absolute_error\n",
    "from sklearn.model_selection import train_test_split\n",
    "from sklearn.preprocessing import OrdinalEncoder\n",
    "from sklearn.ensemble import RandomForestRegressor\n",
    "\n",
    "df = pd.read_csv('stud_math.csv')\n",
    "\n",
    "%matplotlib inline"
   ]
  },
  {
   "cell_type": "code",
   "execution_count": 2,
   "metadata": {},
   "outputs": [],
   "source": [
    "# Отображение графика boxplot и countplot для анализа категориальных признаков\n",
    "def boxplot_distr(column, small=False):\n",
    "\n",
    "    if small:\n",
    "        plt.figure(figsize=(3, 1))\n",
    "    else:\n",
    "        plt.figure(figsize=(9, 3))\n",
    "    sns.boxplot(x=column, y='score', data=df)\n",
    "    ax2 = plt.twinx()\n",
    "    g = sns.countplot(x=column, data=df)\n",
    "    for bar in g.patches:\n",
    "        bar.set_width(0.05)\n",
    "        x = bar.get_x()\n",
    "        x -= 0.1\n",
    "        bar.set_x(x)\n",
    "    plt.show()\n",
    "    plt.close()"
   ]
  },
  {
   "cell_type": "code",
   "execution_count": 74,
   "metadata": {},
   "outputs": [],
   "source": [
    "def get_stat_dif(cacao, column):\n",
    "    cols = cacao.loc[:, column].value_counts().index[:10]\n",
    "    combinations_all = list(combinations(cols, 2))\n",
    "    for comb in combinations_all:\n",
    "        if ttest_ind(cacao.loc[cacao.loc[:, column] == comb[0], 'score'],\n",
    "            cacao.loc[cacao.loc[:, column] == comb[1], 'score']).pvalue \\\n",
    "                <= 0.05/len(combinations_all):  # Учли поправку Бонферрони\n",
    "            print('Найдены статистически значимые различия для колонки',\n",
    "                  column)\n",
    "            break"
   ]
  },
  {
   "cell_type": "markdown",
   "metadata": {},
   "source": [
    "## Часть первая. Ознакомительная\n"
   ]
  },
  {
   "cell_type": "code",
   "execution_count": 96,
   "metadata": {},
   "outputs": [
    {
     "data": {
      "text/plain": [
       "<matplotlib.axes._subplots.AxesSubplot at 0x174251ab088>"
      ]
     },
     "execution_count": 96,
     "metadata": {},
     "output_type": "execute_result"
    },
    {
     "data": {
      "image/png": "[encoded data removed]",
      "text/plain": [
       "<Figure size 432x288 with 1 Axes>"
      ]
     },
     "metadata": {
      "needs_background": "light"
     },
     "output_type": "display_data"
    }
   ],
   "source": [
    "# Начнем с пропусков\n",
    "# определяем цвета\n",
    "# черный - пропущенные данные, красный - не пропущенные\n",
    "colours = ['#FF0000', '#000000'] \n",
    "sns.heatmap(df.isnull(), cbar=False, cmap=sns.color_palette(colours))"
   ]
  },
  {
   "cell_type": "code",
   "execution_count": 5,
   "metadata": {},
   "outputs": [
    {
     "name": "stdout",
     "output_type": "stream",
     "text": [
      "There are 97 rows in dataset without missing values of 395 total rows\n",
      "There are 27 columns in dataset with missing values.\n",
      "395 samples and 30 features in the dataset.\n"
     ]
    }
   ],
   "source": [
    "print(f'There are {len(df.dropna())} rows in dataset without missing values \\\n",
    "of {len(df)} total rows')\n",
    "print(f'There are {df.isnull().any().sum()} columns in dataset with missing \\\n",
    "values.')\n",
    "print(f'{df.shape[0]} samples and {df.shape[1]} features in the dataset.')"
   ]
  },
  {
   "cell_type": "markdown",
   "metadata": {},
   "source": [
    "*Пропуски разбросаны по датафрейму, простое удаление строк с пропусками  \n",
    "приводит к потере около 3/4 всех данных. Необходима работа с пропусками.*"
   ]
  },
  {
   "cell_type": "code",
   "execution_count": 6,
   "metadata": {},
   "outputs": [
    {
     "data": {
      "text/plain": [
       "1    131\n",
       "2     98\n",
       "0     97\n",
       "3     47\n",
       "4     15\n",
       "5      5\n",
       "6      2\n",
       "dtype: int64"
      ]
     },
     "execution_count": 6,
     "metadata": {},
     "output_type": "execute_result"
    }
   ],
   "source": [
    "# найдем количество пропусков в строках датасета и сгруппируем их.\n",
    "df.apply(lambda x: pd.isna(x).sum(), axis=1).value_counts()"
   ]
  },
  {
   "cell_type": "markdown",
   "metadata": {},
   "source": [
    "*Строчек в датесете содержащих значительное количество  пропусков  \n",
    "(хотя бы более половины) не найдено, по этому критерию очистка невозможна.*"
   ]
  },
  {
   "cell_type": "markdown",
   "metadata": {},
   "source": [
    "*Поскольку уникальных значений в датасете не так много, просто выведем их  \n",
    "количество для каждого столбца. Это позволит сразу  оценить и количество  \n",
    "пропусков и явные выбросы.*"
   ]
  },
  {
   "cell_type": "code",
   "execution_count": 7,
   "metadata": {},
   "outputs": [
    {
     "name": "stdout",
     "output_type": "stream",
     "text": [
      "GP    349\n",
      "MS     46\n",
      "Name: school, dtype: int64\n",
      "F    208\n",
      "M    187\n",
      "Name: sex, dtype: int64\n",
      "16    104\n",
      "17     98\n",
      "18     82\n",
      "15     82\n",
      "19     24\n",
      "20      3\n",
      "22      1\n",
      "21      1\n",
      "Name: age, dtype: int64\n",
      "U      295\n",
      "R       83\n",
      "NaN     17\n",
      "Name: address, dtype: int64\n",
      "GT3    261\n",
      "LE3    107\n",
      "NaN     27\n",
      "Name: famsize, dtype: int64\n",
      "T      314\n",
      "NaN     45\n",
      "A       36\n",
      "Name: Pstatus, dtype: int64\n",
      "4.0    131\n",
      "2.0    102\n",
      "3.0     97\n",
      "1.0     59\n",
      "0.0      3\n",
      "NaN      3\n",
      "Name: Medu, dtype: int64\n",
      "2.0     106\n",
      "3.0      96\n",
      "4.0      88\n",
      "1.0      78\n",
      "NaN      24\n",
      "0.0       2\n",
      "40.0      1\n",
      "Name: Fedu, dtype: int64\n",
      "other       133\n",
      "services     98\n",
      "at_home      58\n",
      "teacher      55\n",
      "health       32\n",
      "NaN          19\n",
      "Name: Mjob, dtype: int64\n",
      "other       197\n",
      "services    102\n",
      "NaN          36\n",
      "teacher      29\n",
      "at_home      16\n",
      "health       15\n",
      "Name: Fjob, dtype: int64\n",
      "course        137\n",
      "home          104\n",
      "reputation    103\n",
      "other          34\n",
      "NaN            17\n",
      "Name: reason, dtype: int64\n",
      "mother    250\n",
      "father     86\n",
      "NaN        31\n",
      "other      28\n",
      "Name: guardian, dtype: int64\n",
      "1.0    242\n",
      "2.0     96\n",
      "NaN     28\n",
      "3.0     22\n",
      "4.0      7\n",
      "Name: traveltime, dtype: int64\n",
      "2.0    194\n",
      "1.0    103\n",
      "3.0     64\n",
      "4.0     27\n",
      "NaN      7\n",
      "Name: studytime, dtype: int64\n",
      "0.0    293\n",
      "1.0     49\n",
      "NaN     22\n",
      "2.0     16\n",
      "3.0     15\n",
      "Name: failures, dtype: int64\n",
      "no     335\n",
      "yes     51\n",
      "NaN      9\n",
      "Name: schoolsup, dtype: int64\n",
      "yes    219\n",
      "no     137\n",
      "NaN     39\n",
      "Name: famsup, dtype: int64\n",
      "no     200\n",
      "yes    155\n",
      "NaN     40\n",
      "Name: paid, dtype: int64\n",
      "yes    195\n",
      "no     186\n",
      "NaN     14\n",
      "Name: activities, dtype: int64\n",
      "yes    300\n",
      "no      79\n",
      "NaN     16\n",
      "Name: nursery, dtype: int64\n",
      "-6.0     194\n",
      "-3.0     103\n",
      "-9.0      64\n",
      "-12.0     27\n",
      " NaN       7\n",
      "Name: studytime, granular, dtype: int64\n",
      "yes    356\n",
      "NaN     20\n",
      "no      19\n",
      "Name: higher, dtype: int64\n",
      "yes    305\n",
      "no      56\n",
      "NaN     34\n",
      "Name: internet, dtype: int64\n",
      "no     240\n",
      "yes    124\n",
      "NaN     31\n",
      "Name: romantic, dtype: int64\n",
      " 4.0    182\n",
      " 5.0     99\n",
      " 3.0     62\n",
      " NaN     27\n",
      " 2.0     17\n",
      " 1.0      7\n",
      "-1.0      1\n",
      "Name: famrel, dtype: int64\n",
      "3.0    153\n",
      "4.0    112\n",
      "2.0     63\n",
      "5.0     38\n",
      "1.0     18\n",
      "NaN     11\n",
      "Name: freetime, dtype: int64\n",
      "3.0    127\n",
      "2.0    101\n",
      "4.0     84\n",
      "5.0     52\n",
      "1.0     23\n",
      "NaN      8\n",
      "Name: goout, dtype: int64\n",
      "5.0    138\n",
      "3.0     89\n",
      "4.0     63\n",
      "1.0     47\n",
      "2.0     43\n",
      "NaN     15\n",
      "Name: health, dtype: int64\n",
      "0.0      111\n",
      "2.0       60\n",
      "4.0       53\n",
      "6.0       31\n",
      "8.0       21\n",
      "10.0      17\n",
      "12.0      12\n",
      "NaN       12\n",
      "14.0      12\n",
      "3.0        8\n",
      "16.0       7\n",
      "7.0        6\n",
      "5.0        5\n",
      "18.0       5\n",
      "20.0       4\n",
      "1.0        3\n",
      "22.0       3\n",
      "9.0        3\n",
      "13.0       2\n",
      "15.0       2\n",
      "11.0       2\n",
      "25.0       1\n",
      "54.0       1\n",
      "385.0      1\n",
      "26.0       1\n",
      "56.0       1\n",
      "24.0       1\n",
      "212.0      1\n",
      "21.0       1\n",
      "75.0       1\n",
      "30.0       1\n",
      "19.0       1\n",
      "38.0       1\n",
      "40.0       1\n",
      "23.0       1\n",
      "17.0       1\n",
      "28.0       1\n",
      "Name: absences, dtype: int64\n",
      "50.0     54\n",
      "55.0     46\n",
      "0.0      37\n",
      "75.0     33\n",
      "65.0     31\n",
      "40.0     31\n",
      "60.0     31\n",
      "45.0     27\n",
      "70.0     27\n",
      "80.0     16\n",
      "30.0     15\n",
      "90.0     12\n",
      "35.0      9\n",
      "25.0      7\n",
      "NaN       6\n",
      "85.0      6\n",
      "95.0      5\n",
      "100.0     1\n",
      "20.0      1\n",
      "Name: score, dtype: int64\n"
     ]
    }
   ],
   "source": [
    "for feature in df.columns:\n",
    "    print(df[feature].value_counts(dropna=False))"
   ]
  },
  {
   "cell_type": "markdown",
   "metadata": {},
   "source": [
    "Посмотрим на корреляцию числовых признаков в наших данныьх:"
   ]
  },
  {
   "cell_type": "code",
   "execution_count": 8,
   "metadata": {},
   "outputs": [
    {
     "data": {
      "text/plain": [
       "<matplotlib.axes._subplots.AxesSubplot at 0x17421a8b648>"
      ]
     },
     "execution_count": 8,
     "metadata": {},
     "output_type": "execute_result"
    },
    {
     "data": {
      "image/png": "[encoded data removed]",
      "text/plain": [
       "<Figure size 720x720 with 2 Axes>"
      ]
     },
     "metadata": {
      "needs_background": "light"
     },
     "output_type": "display_data"
    }
   ],
   "source": [
    "fig, ax = plt.subplots(figsize=(10, 10))\n",
    "corr = df.corr()\n",
    "matrix = np.triu(corr)\n",
    "sns.heatmap(corr, annot=True,  fmt='.2g', mask=matrix,\n",
    "            vmin=-1, vmax=0.4)"
   ]
  },
  {
   "cell_type": "markdown",
   "metadata": {},
   "source": [
    "*Бросается в глаза 100 процентная корреляция между **'studytime, granular'**  \n",
    "и **'studytime'**. Пасхалка от составителя задания найдена. Столбец  \n",
    "**'studytime, granular'**  удалим.*"
   ]
  },
  {
   "cell_type": "code",
   "execution_count": 9,
   "metadata": {},
   "outputs": [],
   "source": [
    "df.drop('studytime, granular', axis=1, inplace=True)"
   ]
  },
  {
   "cell_type": "markdown",
   "metadata": {},
   "source": [
    "*Проанализируем целевую переменную **'score'**. Мои выводы по ней приводят к  \n",
    "редактированию всего датасета, поэтому сделаем это сразу.*"
   ]
  },
  {
   "cell_type": "code",
   "execution_count": 10,
   "metadata": {},
   "outputs": [
    {
     "data": {
      "text/plain": [
       "<matplotlib.axes._subplots.AxesSubplot at 0x17421b11208>"
      ]
     },
     "execution_count": 10,
     "metadata": {},
     "output_type": "execute_result"
    },
    {
     "data": {
      "image/png": "[encoded data removed]",
      "text/plain": [
       "<Figure size 432x288 with 1 Axes>"
      ]
     },
     "metadata": {
      "needs_background": "light"
     },
     "output_type": "display_data"
    }
   ],
   "source": [
    "df.score.hist()"
   ]
  },
  {
   "cell_type": "markdown",
   "metadata": {},
   "source": [
    "Видим две части: на правой распределение очень похожее на нормальное, левая  \n",
    "содержит значение 0. При стобальной оценке на экзамене, оценка 0 скорее значит,  \n",
    "что ученик не писал работу совсем, либо оценка не попала в данные."
   ]
  },
  {
   "cell_type": "code",
   "execution_count": 11,
   "metadata": {},
   "outputs": [
    {
     "data": {
      "text/html": [
       "<div>\n",
       "<style scoped>\n",
       "    .dataframe tbody tr th:only-of-type {\n",
       "        vertical-align: middle;\n",
       "    }\n",
       "\n",
       "    .dataframe tbody tr th {\n",
       "        vertical-align: top;\n",
       "    }\n",
       "\n",
       "    .dataframe thead th {\n",
       "        text-align: right;\n",
       "    }\n",
       "</style>\n",
       "<table border=\"1\" class=\"dataframe\">\n",
       "  <thead>\n",
       "    <tr style=\"text-align: right;\">\n",
       "      <th></th>\n",
       "      <th>absences</th>\n",
       "      <th>score</th>\n",
       "    </tr>\n",
       "  </thead>\n",
       "  <tbody>\n",
       "    <tr>\n",
       "      <th>128</th>\n",
       "      <td>0.0</td>\n",
       "      <td>0.0</td>\n",
       "    </tr>\n",
       "    <tr>\n",
       "      <th>130</th>\n",
       "      <td>0.0</td>\n",
       "      <td>0.0</td>\n",
       "    </tr>\n",
       "    <tr>\n",
       "      <th>131</th>\n",
       "      <td>0.0</td>\n",
       "      <td>0.0</td>\n",
       "    </tr>\n",
       "    <tr>\n",
       "      <th>134</th>\n",
       "      <td>0.0</td>\n",
       "      <td>0.0</td>\n",
       "    </tr>\n",
       "    <tr>\n",
       "      <th>135</th>\n",
       "      <td>0.0</td>\n",
       "      <td>0.0</td>\n",
       "    </tr>\n",
       "  </tbody>\n",
       "</table>\n",
       "</div>"
      ],
      "text/plain": [
       "     absences  score\n",
       "128       0.0    0.0\n",
       "130       0.0    0.0\n",
       "131       0.0    0.0\n",
       "134       0.0    0.0\n",
       "135       0.0    0.0"
      ]
     },
     "execution_count": 11,
     "metadata": {},
     "output_type": "execute_result"
    }
   ],
   "source": [
    "df[df.score == 0][['absences', 'score']].head()"
   ]
  },
  {
   "cell_type": "markdown",
   "metadata": {},
   "source": [
    "*Здесь вывод ограничен пятью строками для удобства чтения, но на всех остальных  \n",
    "данных поле 'absences' также содержит нулевое значение (и один NaN) при нулевом  \n",
    "'score'. Источник данных о пропущенных занятиях и итоговая оценка это школа,  \n",
    "остальные данные могли быть получены из других источников, здесь явно какая-то  \n",
    "аномалия. Причем нулевая оценка по экзамену никак не коррелирует с другими  \n",
    "данными, например  вряд ли выглядит правдоподобным желание получить высшее  \n",
    "образование и нулевая оценка по математике. Мне кажется более правильным удалить  \n",
    "строки с нулевым значением 'score',  чем заменять эти значения, например на среднее  \n",
    "или обучать модель на нулевых значениях. По тем же соображениям удалим строки (6)  \n",
    "с пропусками в целевой переменной.*"
   ]
  },
  {
   "cell_type": "code",
   "execution_count": 12,
   "metadata": {},
   "outputs": [],
   "source": [
    "df = df[df.score != 0]\n",
    "df = df.dropna(subset=['score'])"
   ]
  },
  {
   "cell_type": "code",
   "execution_count": 13,
   "metadata": {},
   "outputs": [],
   "source": [
    "# Разделим колонки по типам переменных, содержащихся в них.\n",
    "cat_cols = df.columns[df.dtypes == 'O'].to_list()\n",
    "num_cols_y = df.columns[df.dtypes != 'O'].to_list()\n",
    "num_cols = df.columns[df.dtypes != 'O'].to_list()\n",
    "num_cols.remove('score')"
   ]
  },
  {
   "cell_type": "markdown",
   "metadata": {},
   "source": [
    "## Часть вторая.  Категориальная"
   ]
  },
  {
   "cell_type": "markdown",
   "metadata": {},
   "source": [
    "*Из всех признаков датасета, выраженных числами, чисто числовым является  \n",
    "только absences, остальные подходят под определение порядковых и скорее  \n",
    "относятся к категориальным переменным*"
   ]
  },
  {
   "cell_type": "code",
   "execution_count": 14,
   "metadata": {},
   "outputs": [],
   "source": [
    "# Отберем категориальные признаки в которых есть значение 'other'\n",
    "cat_cols_not_binary = []\n",
    "for it in cat_cols:\n",
    "    if 'other' in df[it].values:\n",
    "        cat_cols_not_binary.append(it)\n",
    "cat_cols_binary = list(set(cat_cols) - set(cat_cols_not_binary))"
   ]
  },
  {
   "cell_type": "markdown",
   "metadata": {},
   "source": [
    "*Для этих признаков заменим **пропуски** значением **'other'** как наиболее подходящее по  \n",
    "смыслу. "
   ]
  },
  {
   "cell_type": "code",
   "execution_count": 15,
   "metadata": {},
   "outputs": [],
   "source": [
    "df[cat_cols_not_binary] = df[cat_cols_not_binary].fillna('other')"
   ]
  },
  {
   "cell_type": "markdown",
   "metadata": {},
   "source": [
    "Признак **Mjob**"
   ]
  },
  {
   "cell_type": "code",
   "execution_count": 16,
   "metadata": {},
   "outputs": [
    {
     "data": {
      "image/png": "[encoded data removed]",
      "text/plain": [
       "<Figure size 648x216 with 2 Axes>"
      ]
     },
     "metadata": {
      "needs_background": "light"
     },
     "output_type": "display_data"
    }
   ],
   "source": [
    "boxplot_distr('Mjob')"
   ]
  },
  {
   "cell_type": "markdown",
   "metadata": {},
   "source": [
    "Признак выглядит влияющим на целевую переменную."
   ]
  },
  {
   "cell_type": "markdown",
   "metadata": {},
   "source": [
    "Признак **Fjob**"
   ]
  },
  {
   "cell_type": "code",
   "execution_count": 17,
   "metadata": {},
   "outputs": [
    {
     "data": {
      "image/png": "[encoded data removed]",
      "text/plain": [
       "<Figure size 648x216 with 2 Axes>"
      ]
     },
     "metadata": {
      "needs_background": "light"
     },
     "output_type": "display_data"
    }
   ],
   "source": [
    "boxplot_distr('Fjob')"
   ]
  },
  {
   "cell_type": "markdown",
   "metadata": {},
   "source": [
    "Признак выглядит влияющим на целевую переменную. "
   ]
  },
  {
   "cell_type": "markdown",
   "metadata": {},
   "source": [
    "Признак **reason**"
   ]
  },
  {
   "cell_type": "code",
   "execution_count": 18,
   "metadata": {},
   "outputs": [
    {
     "data": {
      "image/png": "[encoded data removed]",
      "text/plain": [
       "<Figure size 648x216 with 2 Axes>"
      ]
     },
     "metadata": {
      "needs_background": "light"
     },
     "output_type": "display_data"
    }
   ],
   "source": [
    "boxplot_distr('reason')"
   ]
  },
  {
   "cell_type": "markdown",
   "metadata": {},
   "source": [
    "Признак выглядит слабо влияющим на целевую переменную. "
   ]
  },
  {
   "cell_type": "markdown",
   "metadata": {},
   "source": [
    "Признак **guardian**"
   ]
  },
  {
   "cell_type": "code",
   "execution_count": 19,
   "metadata": {},
   "outputs": [
    {
     "data": {
      "image/png": "[encoded data removed]",
      "text/plain": [
       "<Figure size 648x216 with 2 Axes>"
      ]
     },
     "metadata": {
      "needs_background": "light"
     },
     "output_type": "display_data"
    }
   ],
   "source": [
    "boxplot_distr('guardian')"
   ]
  },
  {
   "cell_type": "markdown",
   "metadata": {},
   "source": [
    "Признак выглядит слабо влияющим на целевую переменную. "
   ]
  },
  {
   "cell_type": "code",
   "execution_count": 20,
   "metadata": {},
   "outputs": [],
   "source": [
    "ord_cols = ['Medu', 'Fedu', 'traveltime', 'studytime', 'famrel', 'freetime',\n",
    "            'goout', 'health', 'failures', 'age']"
   ]
  },
  {
   "cell_type": "markdown",
   "metadata": {},
   "source": [
    "### Категориальные порядковые признаки"
   ]
  },
  {
   "cell_type": "markdown",
   "metadata": {},
   "source": [
    "### Fedu, Medu"
   ]
  },
  {
   "cell_type": "markdown",
   "metadata": {},
   "source": [
    "Значение в Fedu 40 явный выброс, скорее всего приписан лишний \"0\", заменим на 4."
   ]
  },
  {
   "cell_type": "code",
   "execution_count": 21,
   "metadata": {},
   "outputs": [],
   "source": [
    "df.loc[df.Fedu == 40, 'Fedu'] = 4.0"
   ]
  },
  {
   "cell_type": "code",
   "execution_count": 22,
   "metadata": {},
   "outputs": [
    {
     "data": {
      "text/plain": [
       "Fedu  Medu\n",
       "0.0   1.0      1\n",
       "      4.0      1\n",
       "1.0   1.0     28\n",
       "      2.0     22\n",
       "      3.0     13\n",
       "      0.0      1\n",
       "2.0   2.0     41\n",
       "      3.0     22\n",
       "      4.0     18\n",
       "      1.0     11\n",
       "      0.0      2\n",
       "3.0   4.0     37\n",
       "      3.0     32\n",
       "      2.0     15\n",
       "      1.0      4\n",
       "4.0   4.0     59\n",
       "      3.0     14\n",
       "      2.0      7\n",
       "      1.0      1\n",
       "Name: Medu, dtype: int64"
      ]
     },
     "execution_count": 22,
     "metadata": {},
     "output_type": "execute_result"
    }
   ],
   "source": [
    "df.groupby('Fedu').Medu.value_counts()"
   ]
  },
  {
   "cell_type": "markdown",
   "metadata": {},
   "source": [
    "Наблюдается взаимосвязь между переменными Medu и Fedu, для каждого значения Fedu  \n",
    "самое частое значение Medu совпадают или находится на втором месте. Поэтому  для  \n",
    "заполнения пропусков (24) в Fedu присвоим значение Medu из этой же строчки. Наоборот  \n",
    "поступим также, там аналогичная зависимость без исключений."
   ]
  },
  {
   "cell_type": "code",
   "execution_count": 23,
   "metadata": {},
   "outputs": [],
   "source": [
    "df.Fedu = df.Fedu.fillna(df.Medu)\n",
    "df.Medu = df.Medu.fillna(df.Fedu)"
   ]
  },
  {
   "cell_type": "markdown",
   "metadata": {},
   "source": [
    "Признак выглядит производящим влияние на целевую переменную."
   ]
  },
  {
   "cell_type": "code",
   "execution_count": 24,
   "metadata": {},
   "outputs": [
    {
     "data": {
      "text/plain": [
       "2.0    97\n",
       "3.0    95\n",
       "4.0    91\n",
       "1.0    67\n",
       "0.0     2\n",
       "Name: Fedu, dtype: int64"
      ]
     },
     "execution_count": 24,
     "metadata": {},
     "output_type": "execute_result"
    }
   ],
   "source": [
    "df.Fedu.value_counts()"
   ]
  },
  {
   "cell_type": "code",
   "execution_count": 25,
   "metadata": {},
   "outputs": [
    {
     "data": {
      "image/png": "[encoded data removed]",
      "text/plain": [
       "<Figure size 648x216 with 2 Axes>"
      ]
     },
     "metadata": {
      "needs_background": "light"
     },
     "output_type": "display_data"
    }
   ],
   "source": [
    "boxplot_distr('Medu')"
   ]
  },
  {
   "cell_type": "markdown",
   "metadata": {},
   "source": [
    "Первая категория содержит мало значений, но целом видится влияние на целевую  \n",
    "переменную."
   ]
  },
  {
   "cell_type": "code",
   "execution_count": 26,
   "metadata": {},
   "outputs": [
    {
     "data": {
      "image/png": "[encoded data removed]",
      "text/plain": [
       "<Figure size 648x216 with 2 Axes>"
      ]
     },
     "metadata": {
      "needs_background": "light"
     },
     "output_type": "display_data"
    }
   ],
   "source": [
    "boxplot_distr('Fedu')"
   ]
  },
  {
   "cell_type": "markdown",
   "metadata": {},
   "source": [
    "Более-менее равномерное распределение по категориям, есть небольшое влияние на  \n",
    "целевую  переменную."
   ]
  },
  {
   "cell_type": "markdown",
   "metadata": {},
   "source": [
    "### Traveltime\n",
    "\n",
    "Выбросов нет, 28 пропусков."
   ]
  },
  {
   "cell_type": "code",
   "execution_count": 27,
   "metadata": {},
   "outputs": [
    {
     "data": {
      "text/plain": [
       "school  address  traveltime\n",
       "GP      R        1.0            28\n",
       "                 2.0            15\n",
       "                 3.0             4\n",
       "                 NaN             3\n",
       "                 4.0             3\n",
       "        U        1.0           173\n",
       "                 2.0            50\n",
       "                 NaN            15\n",
       "                 3.0             7\n",
       "                 4.0             3\n",
       "MS      R        2.0             7\n",
       "                 3.0             6\n",
       "                 1.0             4\n",
       "                 NaN             2\n",
       "                 4.0             1\n",
       "        U        2.0             9\n",
       "                 1.0             8\n",
       "Name: traveltime, dtype: int64"
      ]
     },
     "execution_count": 27,
     "metadata": {},
     "output_type": "execute_result"
    }
   ],
   "source": [
    "df.groupby(['school', 'address']).traveltime.value_counts(dropna=False)"
   ]
  },
  {
   "cell_type": "markdown",
   "metadata": {},
   "source": [
    "Школьники из школы GP независимо от типа адреса чаще всего добираются за время  \n",
    "менее 15 минут, а из MS за промежуток 15-30 минут. Заполним пропуски по этому  \n",
    "принципу."
   ]
  },
  {
   "cell_type": "code",
   "execution_count": 28,
   "metadata": {},
   "outputs": [],
   "source": [
    "df['traveltime'] = df.apply(lambda x: (1.0 if x.school == 'GP' else 2.0)\n",
    "                            if pd.isna(x.traveltime) else x.traveltime, axis=1)"
   ]
  },
  {
   "cell_type": "code",
   "execution_count": 29,
   "metadata": {},
   "outputs": [
    {
     "data": {
      "image/png": "[encoded data removed]",
      "text/plain": [
       "<Figure size 648x216 with 2 Axes>"
      ]
     },
     "metadata": {
      "needs_background": "light"
     },
     "output_type": "display_data"
    }
   ],
   "source": [
    "boxplot_distr('traveltime')"
   ]
  },
  {
   "cell_type": "markdown",
   "metadata": {},
   "source": [
    "По мере уменьшения количества значений в каждой категории разброс сжимается  \n",
    "вдоль одной оси, выглядит слабовлияющим."
   ]
  },
  {
   "cell_type": "markdown",
   "metadata": {},
   "source": [
    "### Studytime\n",
    "Выбросов нет, 7 пропусков."
   ]
  },
  {
   "cell_type": "code",
   "execution_count": 30,
   "metadata": {},
   "outputs": [
    {
     "data": {
      "text/plain": [
       "freetime  studytime\n",
       "1.0       2.0           8\n",
       "          4.0           3\n",
       "          1.0           2\n",
       "          3.0           2\n",
       "          NaN           1\n",
       "2.0       2.0          27\n",
       "          1.0          18\n",
       "          3.0           9\n",
       "          4.0           5\n",
       "3.0       2.0          66\n",
       "          1.0          28\n",
       "          3.0          26\n",
       "          4.0          10\n",
       "          NaN           2\n",
       "4.0       2.0          55\n",
       "          1.0          25\n",
       "          3.0          19\n",
       "          4.0           2\n",
       "          NaN           1\n",
       "5.0       1.0          16\n",
       "          2.0          13\n",
       "          4.0           3\n",
       "          NaN           2\n",
       "          3.0           1\n",
       "Name: studytime, dtype: int64"
      ]
     },
     "execution_count": 30,
     "metadata": {},
     "output_type": "execute_result"
    }
   ],
   "source": [
    "df.groupby('freetime').studytime.value_counts(dropna=False)"
   ]
  },
  {
   "cell_type": "markdown",
   "metadata": {},
   "source": [
    "*Если у ученика много свободного времени после школы, значит он мало занимается  \n",
    "после школы. Данные это предположение не отвергают, поэтому заполним  \n",
    "**studytime** 1.0, если **freetime** равно 5.0, и значением 2.0 в остальных случаях.*"
   ]
  },
  {
   "cell_type": "code",
   "execution_count": 31,
   "metadata": {},
   "outputs": [],
   "source": [
    "df['studytime'] = df.apply(lambda x: (1.0 if x.freetime == 5.0 else 2.0)\n",
    "                           if pd.isna(x.studytime) else x.studytime, axis=1)"
   ]
  },
  {
   "cell_type": "code",
   "execution_count": 32,
   "metadata": {},
   "outputs": [
    {
     "data": {
      "image/png": "[encoded data removed]",
      "text/plain": [
       "<Figure size 648x216 with 2 Axes>"
      ]
     },
     "metadata": {
      "needs_background": "light"
     },
     "output_type": "display_data"
    }
   ],
   "source": [
    "boxplot_distr('studytime')"
   ]
  },
  {
   "cell_type": "markdown",
   "metadata": {},
   "source": [
    "Если зависимость и есть, то небольшая."
   ]
  },
  {
   "cell_type": "markdown",
   "metadata": {},
   "source": [
    "### Famrel\n",
    "Один выброс - отрицательное значение \"-1\", просто поменяем ему знак. Пропусков - 27,  \n",
    "заполним самым популярным значением этого поля 4.0"
   ]
  },
  {
   "cell_type": "code",
   "execution_count": 33,
   "metadata": {},
   "outputs": [],
   "source": [
    "df.loc[df.famrel == -1, 'famrel'] = 1\n",
    "df.famrel.fillna(4.0, inplace=True)"
   ]
  },
  {
   "cell_type": "code",
   "execution_count": 34,
   "metadata": {},
   "outputs": [
    {
     "data": {
      "image/png": "[encoded data removed]",
      "text/plain": [
       "<Figure size 648x216 with 2 Axes>"
      ]
     },
     "metadata": {
      "needs_background": "light"
     },
     "output_type": "display_data"
    }
   ],
   "source": [
    "boxplot_distr('famrel')"
   ]
  },
  {
   "cell_type": "markdown",
   "metadata": {},
   "source": [
    "Среднее значение примерно на одной уровне, разброс увеличивается при  увеличении  \n",
    "количества значений. Влияние не выглядит сильным."
   ]
  },
  {
   "cell_type": "markdown",
   "metadata": {},
   "source": [
    "### Health\n",
    "Выбросов нет. Пропусков - 15, заполним самым популярным значением этого поля 5.0"
   ]
  },
  {
   "cell_type": "code",
   "execution_count": 35,
   "metadata": {},
   "outputs": [],
   "source": [
    "df.health.fillna(5.0, inplace=True)"
   ]
  },
  {
   "cell_type": "code",
   "execution_count": 36,
   "metadata": {},
   "outputs": [
    {
     "data": {
      "image/png": "[encoded data removed]",
      "text/plain": [
       "<Figure size 648x216 with 2 Axes>"
      ]
     },
     "metadata": {
      "needs_background": "light"
     },
     "output_type": "display_data"
    }
   ],
   "source": [
    "boxplot_distr('health')"
   ]
  },
  {
   "cell_type": "markdown",
   "metadata": {},
   "source": [
    "Категории выглядят одинаково, какой-то закономерности не прослеживается."
   ]
  },
  {
   "cell_type": "markdown",
   "metadata": {},
   "source": [
    "### Freetime\n",
    "\n",
    "Выбросов нет. Пропусков - 11. 3.0 - самое частое значение, середина нашей  шкалы  \n",
    "по этой колонке , поэтому заполним пропуск \"золотой\" серединой."
   ]
  },
  {
   "cell_type": "code",
   "execution_count": 37,
   "metadata": {},
   "outputs": [],
   "source": [
    "df.freetime.fillna(3.0, inplace=True)"
   ]
  },
  {
   "cell_type": "code",
   "execution_count": 38,
   "metadata": {},
   "outputs": [
    {
     "data": {
      "image/png": "[encoded data removed]",
      "text/plain": [
       "<Figure size 648x216 with 2 Axes>"
      ]
     },
     "metadata": {
      "needs_background": "light"
     },
     "output_type": "display_data"
    }
   ],
   "source": [
    "boxplot_distr('freetime')"
   ]
  },
  {
   "cell_type": "markdown",
   "metadata": {},
   "source": [
    "Аналогично предыдущему пункту визуально зависимости не видно, распределение  \n",
    "похоже на нормальное, что встречается редко в этом датасете."
   ]
  },
  {
   "cell_type": "markdown",
   "metadata": {},
   "source": [
    "Признак **age**"
   ]
  },
  {
   "cell_type": "markdown",
   "metadata": {},
   "source": [
    "Пропусков нет, выбросов тоже."
   ]
  },
  {
   "cell_type": "code",
   "execution_count": 39,
   "metadata": {},
   "outputs": [
    {
     "data": {
      "image/png": "[encoded data removed]",
      "text/plain": [
       "<Figure size 648x216 with 2 Axes>"
      ]
     },
     "metadata": {
      "needs_background": "light"
     },
     "output_type": "display_data"
    }
   ],
   "source": [
    "boxplot_distr('age')"
   ]
  },
  {
   "cell_type": "markdown",
   "metadata": {},
   "source": [
    "Правая часть графика имеет отличия, но там слишком мало значений для выводов.  \n",
    "Не влияет."
   ]
  },
  {
   "cell_type": "markdown",
   "metadata": {},
   "source": [
    "### Failures\n",
    "\n",
    "Выбросов нет. Пропусков - 22. Здесь нулевое значение побеждает с большим отрывом,  \n",
    "поэтому заполним пропуск им"
   ]
  },
  {
   "cell_type": "code",
   "execution_count": 40,
   "metadata": {},
   "outputs": [],
   "source": [
    "df.failures.fillna(0, inplace=True)"
   ]
  },
  {
   "cell_type": "code",
   "execution_count": 41,
   "metadata": {},
   "outputs": [
    {
     "data": {
      "image/png": "[encoded data removed]",
      "text/plain": [
       "<Figure size 648x216 with 2 Axes>"
      ]
     },
     "metadata": {
      "needs_background": "light"
     },
     "output_type": "display_data"
    }
   ],
   "source": [
    "boxplot_distr('failures')"
   ]
  },
  {
   "cell_type": "markdown",
   "metadata": {},
   "source": [
    "Прослеживается снижение снижение score от роста failrues, смущает сильная  \n",
    "неравномерность по категориям."
   ]
  },
  {
   "cell_type": "markdown",
   "metadata": {},
   "source": [
    "### Goout\n",
    "\n",
    "Выбросов нет. Пропусков - 8. "
   ]
  },
  {
   "cell_type": "code",
   "execution_count": 42,
   "metadata": {},
   "outputs": [],
   "source": [
    "df.goout.fillna(3.0, inplace=True)"
   ]
  },
  {
   "cell_type": "code",
   "execution_count": 43,
   "metadata": {},
   "outputs": [
    {
     "data": {
      "image/png": "[encoded data removed]",
      "text/plain": [
       "<Figure size 648x216 with 2 Axes>"
      ]
     },
     "metadata": {
      "needs_background": "light"
     },
     "output_type": "display_data"
    }
   ],
   "source": [
    "boxplot_distr('goout')"
   ]
  },
  {
   "cell_type": "markdown",
   "metadata": {},
   "source": [
    "Распределение по категориям похоже на нормальное, небольшая разница заметна."
   ]
  },
  {
   "cell_type": "markdown",
   "metadata": {},
   "source": [
    " ## Категориальные признаки с двумя значениями"
   ]
  },
  {
   "cell_type": "markdown",
   "metadata": {},
   "source": [
    "Для бинарных признаков пропуски заменим на более частое значение этого  \n",
    "признака, кроме признака address"
   ]
  },
  {
   "cell_type": "markdown",
   "metadata": {},
   "source": [
    "Признак **school**"
   ]
  },
  {
   "cell_type": "markdown",
   "metadata": {},
   "source": [
    "*Пропусков в данных нет. В датасете содержатся данные об учениках только двух  \n",
    "школ. Поиск не дал результатов, что по этим аббревиатурам можно  \n",
    "категоризировать школу (например государственная, муниципальная или частная).* "
   ]
  },
  {
   "cell_type": "markdown",
   "metadata": {},
   "source": [
    "Признак **address**"
   ]
  },
  {
   "cell_type": "code",
   "execution_count": 44,
   "metadata": {},
   "outputs": [
    {
     "data": {
      "text/plain": [
       "address  traveltime\n",
       "R        1.0            35\n",
       "         2.0            24\n",
       "         3.0            10\n",
       "         4.0             4\n",
       "U        1.0           196\n",
       "         2.0            59\n",
       "         3.0             7\n",
       "         4.0             3\n",
       "Name: traveltime, dtype: int64"
      ]
     },
     "execution_count": 44,
     "metadata": {},
     "output_type": "execute_result"
    }
   ],
   "source": [
    "df.groupby('address').traveltime.value_counts()"
   ]
  },
  {
   "cell_type": "markdown",
   "metadata": {},
   "source": [
    "Если traveltime равно 1, ставим адрес = U, в других случаях R."
   ]
  },
  {
   "cell_type": "code",
   "execution_count": 45,
   "metadata": {},
   "outputs": [],
   "source": [
    "df['address'] = df.apply(lambda x: ('U' if x.traveltime == 1 else 'R')\n",
    "                         if pd.isna(x.address) else x.address, axis=1)"
   ]
  },
  {
   "cell_type": "code",
   "execution_count": 46,
   "metadata": {},
   "outputs": [],
   "source": [
    "# Заполняем пропуски самым частым значением.\n",
    "for it in cat_cols_binary:\n",
    "    df[it].fillna(df[it].value_counts().idxmax(), inplace=True)"
   ]
  },
  {
   "cell_type": "code",
   "execution_count": 47,
   "metadata": {},
   "outputs": [
    {
     "data": {
      "image/png": "[encoded data removed]",
      "text/plain": [
       "<Figure size 216x72 with 2 Axes>"
      ]
     },
     "metadata": {
      "needs_background": "light"
     },
     "output_type": "display_data"
    },
    {
     "data": {
      "image/png": "[encoded data removed]",
      "text/plain": [
       "<Figure size 216x72 with 2 Axes>"
      ]
     },
     "metadata": {
      "needs_background": "light"
     },
     "output_type": "display_data"
    },
    {
     "data": {
      "image/png": "[encoded data removed]",
      "text/plain": [
       "<Figure size 216x72 with 2 Axes>"
      ]
     },
     "metadata": {
      "needs_background": "light"
     },
     "output_type": "display_data"
    },
    {
     "data": {
      "image/png": "[encoded data removed]",
      "text/plain": [
       "<Figure size 216x72 with 2 Axes>"
      ]
     },
     "metadata": {
      "needs_background": "light"
     },
     "output_type": "display_data"
    },
    {
     "data": {
      "image/png": "[encoded data removed]",
      "text/plain": [
       "<Figure size 216x72 with 2 Axes>"
      ]
     },
     "metadata": {
      "needs_background": "light"
     },
     "output_type": "display_data"
    },
    {
     "data": {
      "image/png": "[encoded data removed]",
      "text/plain": [
       "<Figure size 216x72 with 2 Axes>"
      ]
     },
     "metadata": {
      "needs_background": "light"
     },
     "output_type": "display_data"
    },
    {
     "data": {
      "image/png": "[encoded data removed]",
      "text/plain": [
       "<Figure size 216x72 with 2 Axes>"
      ]
     },
     "metadata": {
      "needs_background": "light"
     },
     "output_type": "display_data"
    },
    {
     "data": {
      "image/png": "[encoded data removed]",
      "text/plain": [
       "<Figure size 216x72 with 2 Axes>"
      ]
     },
     "metadata": {
      "needs_background": "light"
     },
     "output_type": "display_data"
    },
    {
     "data": {
      "image/png": "[encoded data removed]",
      "text/plain": [
       "<Figure size 216x72 with 2 Axes>"
      ]
     },
     "metadata": {
      "needs_background": "light"
     },
     "output_type": "display_data"
    },
    {
     "data": {
      "image/png": "[encoded data removed]",
      "text/plain": [
       "<Figure size 216x72 with 2 Axes>"
      ]
     },
     "metadata": {
      "needs_background": "light"
     },
     "output_type": "display_data"
    },
    {
     "data": {
      "image/png": "[encoded data removed]",
      "text/plain": [
       "<Figure size 216x72 with 2 Axes>"
      ]
     },
     "metadata": {
      "needs_background": "light"
     },
     "output_type": "display_data"
    },
    {
     "data": {
      "image/png": "[encoded data removed]",
      "text/plain": [
       "<Figure size 216x72 with 2 Axes>"
      ]
     },
     "metadata": {
      "needs_background": "light"
     },
     "output_type": "display_data"
    },
    {
     "data": {
      "image/png": "[encoded data removed]",
      "text/plain": [
       "<Figure size 216x72 with 2 Axes>"
      ]
     },
     "metadata": {
      "needs_background": "light"
     },
     "output_type": "display_data"
    }
   ],
   "source": [
    "for col in cat_cols_binary:\n",
    "    boxplot_distr(col, small=True)"
   ]
  },
  {
   "cell_type": "markdown",
   "metadata": {},
   "source": [
    "Графики довольно одинаковы, выделяется только schoolsup, остальные признаки  \n",
    "выглядят мало влияющим на целевую переменную."
   ]
  },
  {
   "cell_type": "code",
   "execution_count": null,
   "metadata": {},
   "outputs": [],
   "source": [
    "Посмотрим на наши переменные статистическим методом:"
   ]
  },
  {
   "cell_type": "code",
   "execution_count": 67,
   "metadata": {},
   "outputs": [
    {
     "name": "stdout",
     "output_type": "stream",
     "text": [
      "Найдены статистически значимые различия для колонки address\n",
      "Найдены статистически значимые различия для колонки Mjob\n",
      "Найдены статистически значимые различия для колонки Fjob\n",
      "Найдены статистически значимые различия для колонки schoolsup\n",
      "Найдены статистически значимые различия для колонки Medu\n",
      "Найдены статистически значимые различия для колонки Fedu\n",
      "Найдены статистически значимые различия для колонки studytime\n",
      "Найдены статистически значимые различия для колонки goout\n",
      "Найдены статистически значимые различия для колонки failures\n"
     ]
    }
   ],
   "source": [
    "#Признак age исключен, т.к. выдает кучу предупреждений. Видимо из-за единичных\n",
    "#значений в категориях 22 и 21 год\n",
    "for col in cat_cols+ord_cols[:-1]:\n",
    "    get_stat_dif(df, col)"
   ]
  },
  {
   "cell_type": "markdown",
   "metadata": {},
   "source": [
    "*По совету коллег с ODS для оценки категориальных переменных построим Random Forest  \n",
    "на всех этих переменных и посмотрим features importance.* \n",
    "\n",
    "**Спойлер: ничего не получилось**"
   ]
  },
  {
   "cell_type": "code",
   "execution_count": 54,
   "metadata": {},
   "outputs": [
    {
     "name": "stdout",
     "output_type": "stream",
     "text": [
      "The rmse of prediction is: 16.28715930376997\n"
     ]
    }
   ],
   "source": [
    "df_cat = df[cat_cols]\n",
    "X_enc = OrdinalEncoder().fit_transform(df_cat[cat_cols])\n",
    "X_train, X_test, y_train, y_test = train_test_split(X_enc,\n",
    "            df.loc[:, 'score'], test_size=0.25, random_state=42)\n",
    "d_train = lgb.Dataset(X_train, label=y_train,\n",
    "                      categorical_feature=list(range(0, 17)))\n",
    "# specify your configurations as a dict\n",
    "params = {\n",
    "    'boosting_type': 'rf',\n",
    "    'feature_fraction': 0.3,\n",
    "    'bagging_fraction': 0.5,\n",
    "    'fraction_freq': 1,\n",
    "    'bagging_freq': 1\n",
    "}\n",
    "gbm = lgb.train(params, d_train, categorical_feature=list(range(0, 17)))\n",
    "y_pred = gbm.predict(X_test, num_iteration=gbm.best_iteration)\n",
    "print('The rmse of prediction is:', mean_squared_error(y_test, y_pred) ** 0.5)"
   ]
  },
  {
   "cell_type": "code",
   "execution_count": 55,
   "metadata": {},
   "outputs": [
    {
     "name": "stdout",
     "output_type": "stream",
     "text": [
      "school : 2\n",
      "sex : 33\n",
      "address : 23\n",
      "famsize : 18\n",
      "Pstatus : 0\n",
      "Mjob : 0\n",
      "Fjob : 0\n",
      "reason : 57\n",
      "guardian : 32\n",
      "schoolsup : 12\n",
      "famsup : 27\n",
      "paid : 26\n",
      "activities : 38\n",
      "nursery : 5\n",
      "higher : 0\n",
      "internet : 10\n",
      "romantic : 17\n"
     ]
    }
   ],
   "source": [
    "for it in zip(cat_cols, gbm.feature_importance()):\n",
    "    print(it[0], ':', it[1])"
   ]
  },
  {
   "cell_type": "markdown",
   "metadata": {},
   "source": [
    "Получилось все очень печально. На этих данных модель хорошо обучится не смогла,  \n",
    "выдает результат на уровне простого среднего значения. Оценку по этому способу  \n",
    "дать невозможно."
   ]
  },
  {
   "cell_type": "markdown",
   "metadata": {},
   "source": [
    "## Часть третья.  Числовая\n"
   ]
  },
  {
   "cell_type": "markdown",
   "metadata": {},
   "source": [
    "Остался всего один признак, более похожий на числовой, чем все остальные признаки."
   ]
  },
  {
   "cell_type": "markdown",
   "metadata": {},
   "source": [
    "### Absences\n",
    "Колонка с пропусками занятий absences содержит два выброса - 385 и 212. Для  \n",
    "пропущенных занятий это слишком большое значение.\n",
    "Заменим на среднее значение без  \n",
    "учета этих выбросов, дробную часть отбросим.  Пропуски заменим тем же средним."
   ]
  },
  {
   "cell_type": "code",
   "execution_count": 56,
   "metadata": {},
   "outputs": [
    {
     "data": {
      "text/plain": [
       "222    385.0\n",
       "390    212.0\n",
       "Name: absences, dtype: float64"
      ]
     },
     "execution_count": 56,
     "metadata": {},
     "output_type": "execute_result"
    }
   ],
   "source": [
    "df[df.absences > 100].absences"
   ]
  },
  {
   "cell_type": "code",
   "execution_count": 57,
   "metadata": {},
   "outputs": [],
   "source": [
    "mean_ab = int(df.absences[df.absences < 100].mean())\n",
    "index = df.absences[df.absences > 100].index\n",
    "df.loc[index, 'absences'] = mean_ab\n",
    "df.absences.fillna(mean_ab, inplace=True)"
   ]
  },
  {
   "cell_type": "markdown",
   "metadata": {},
   "source": [
    "Из матрицы коррелляций берем значение для нашего признака: **0,065**  \n",
    "Значение слишком мало, чтобы сделать вывод о наличии корреляции между этим признаком  \n",
    "и целевой переменной."
   ]
  },
  {
   "cell_type": "markdown",
   "metadata": {},
   "source": [
    "Попробуем очищенный датасет \"скормить\" модели из \"вкусной и здровой пищи\""
   ]
  },
  {
   "cell_type": "code",
   "execution_count": 68,
   "metadata": {},
   "outputs": [],
   "source": [
    "df[cat_cols] = OrdinalEncoder().fit_transform(df_cat[cat_cols])\n",
    "X_train, X_test, y_train, y_test = train_test_split(df.iloc[:, :-1],\n",
    "    df.loc[:, 'score'], test_size=0.25, random_state=42)\n",
    "# Создаём модель\n",
    "regr = RandomForestRegressor(n_estimators=100, random_state=42, n_jobs=-1)\n",
    "# Обучаем модель на тестовом наборе данных\n",
    "regr.fit(X_train, y_train)\n",
    "y_pred = regr.predict(X_test)"
   ]
  },
  {
   "cell_type": "code",
   "execution_count": 69,
   "metadata": {},
   "outputs": [
    {
     "name": "stdout",
     "output_type": "stream",
     "text": [
      "MAE: 11.326704545454545\n"
     ]
    }
   ],
   "source": [
    "print('MAE:', mean_absolute_error(y_test, y_pred))"
   ]
  },
  {
   "cell_type": "markdown",
   "metadata": {},
   "source": [
    "Результат очень плохой, но если бы получилось построить хорошую модель, то   \n",
    "можно было бы отобрать признаки используемые моделью."
   ]
  },
  {
   "cell_type": "code",
   "execution_count": 73,
   "metadata": {},
   "outputs": [
    {
     "data": {
      "text/plain": [
       "<matplotlib.axes._subplots.AxesSubplot at 0x174222e57c8>"
      ]
     },
     "execution_count": 73,
     "metadata": {},
     "output_type": "execute_result"
    },
    {
     "data": {
      "image/png": "[encoded data removed]",
      "text/plain": [
       "<Figure size 360x216 with 1 Axes>"
      ]
     },
     "metadata": {
      "needs_background": "light"
     },
     "output_type": "display_data"
    }
   ],
   "source": [
    "#в RandomForestRegressor есть возможность вывести самые важные признаки\n",
    "plt.rcParams['figure.figsize'] = (5, 3)\n",
    "feat_importances = pd.Series(\n",
    "    regr.feature_importances_, index=df.iloc[:, :-1].columns)\n",
    "feat_importances.nlargest(5).plot(kind='barh')"
   ]
  },
  {
   "cell_type": "markdown",
   "metadata": {},
   "source": [
    "### Наш итоговый очищенный датасет:"
   ]
  },
  {
   "cell_type": "code",
   "execution_count": 65,
   "metadata": {},
   "outputs": [
    {
     "name": "stdout",
     "output_type": "stream",
     "text": [
      "<class 'pandas.core.frame.DataFrame'>\n",
      "Int64Index: 352 entries, 0 to 394\n",
      "Data columns (total 29 columns):\n",
      " #   Column      Non-Null Count  Dtype  \n",
      "---  ------      --------------  -----  \n",
      " 0   school      352 non-null    float64\n",
      " 1   sex         352 non-null    float64\n",
      " 2   age         352 non-null    int64  \n",
      " 3   address     352 non-null    float64\n",
      " 4   famsize     352 non-null    float64\n",
      " 5   Pstatus     352 non-null    float64\n",
      " 6   Medu        352 non-null    float64\n",
      " 7   Fedu        352 non-null    float64\n",
      " 8   Mjob        352 non-null    float64\n",
      " 9   Fjob        352 non-null    float64\n",
      " 10  reason      352 non-null    float64\n",
      " 11  guardian    352 non-null    float64\n",
      " 12  traveltime  352 non-null    float64\n",
      " 13  studytime   352 non-null    float64\n",
      " 14  failures    352 non-null    float64\n",
      " 15  schoolsup   352 non-null    float64\n",
      " 16  famsup      352 non-null    float64\n",
      " 17  paid        352 non-null    float64\n",
      " 18  activities  352 non-null    float64\n",
      " 19  nursery     352 non-null    float64\n",
      " 20  higher      352 non-null    float64\n",
      " 21  internet    352 non-null    float64\n",
      " 22  romantic    352 non-null    float64\n",
      " 23  famrel      352 non-null    float64\n",
      " 24  freetime    352 non-null    float64\n",
      " 25  goout       352 non-null    float64\n",
      " 26  health      352 non-null    float64\n",
      " 27  absences    352 non-null    float64\n",
      " 28  score       352 non-null    float64\n",
      "dtypes: float64(28), int64(1)\n",
      "memory usage: 92.5 KB\n"
     ]
    }
   ],
   "source": [
    "df.info()"
   ]
  },
  {
   "cell_type": "markdown",
   "metadata": {},
   "source": [
    "## Выводы:\n",
    "\n",
    "1. В данных содержится большое количество пропусков. Странное совпадение нулевых значений в колоноках 'absences' и 'score', которое логически не связывается с остальными данными. Можно попробовать выяснить причину, возможны какие-то ошибки при формировании данных.\n",
    "2. Признак 'school'. Если это аббревиатуры двух конкретных школ, а предскзания будут делаться для учеников из других школ этот признак бесполезен.\n",
    "3. Категориальные переменные: по \"ящикам с усами\" визуально видится влияние переменных Mjob, Fjob, Fedu, Medu, failures, goout, schoolsup. \n",
    "4. Статистическим методом найдены различия: address, Mjob, Fjob, Medu, Fedu, studytime, failures, goout, schoolsup.\n",
    "5. Признак absences имеет слабую корреляцию с целевой переменной.\n",
    "6. Признаки рекомендуемые для построения модели: address, Mjob, Fjob, Medu, Fedu, studytime, failures, goout, schoolsup."
   ]
  }
 ],
 "metadata": {
  "kernelspec": {
   "display_name": "Python 3",
   "language": "python",
   "name": "python3"
  },
  "language_info": {
   "codemirror_mode": {
    "name": "ipython",
    "version": 3
   },
   "file_extension": ".py",
   "mimetype": "text/x-python",
   "name": "python",
   "nbconvert_exporter": "python",
   "pygments_lexer": "ipython3",
   "version": "3.7.6"
  }
 },
 "nbformat": 4,
 "nbformat_minor": 4
}
